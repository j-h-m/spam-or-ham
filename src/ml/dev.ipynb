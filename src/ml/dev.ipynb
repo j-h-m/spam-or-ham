{
 "cells": [
  {
   "cell_type": "code",
   "execution_count": null,
   "id": "9115aa56",
   "metadata": {},
   "outputs": [],
   "source": [
    "import os\n",
    "import string\n",
    "import re\n",
    "import pandas as pd\n",
    "import numpy as np\n",
    "import matplotlib.pyplot as plt\n",
    "\n",
    "from nltk.corpus import stopwords\n",
    "from sklearn.model_selection import train_test_split"
   ]
  },
  {
   "cell_type": "code",
   "execution_count": null,
   "id": "15089866",
   "metadata": {},
   "outputs": [],
   "source": [
    "# download stopwords\n",
    "import nltk\n",
    "nltk.download('stopwords')"
   ]
  },
  {
   "cell_type": "code",
   "execution_count": null,
   "id": "fb60ee5a",
   "metadata": {},
   "outputs": [],
   "source": [
    "# add custom stopwords\n",
    "\n",
    "print(stopwords.words('english'))"
   ]
  },
  {
   "cell_type": "code",
   "execution_count": null,
   "id": "7c9fcb53",
   "metadata": {},
   "outputs": [],
   "source": [
    "my_stopwords = stopwords.words('english')\n",
    "my_stopwords.append('subject:')\n",
    "my_stopwords"
   ]
  },
  {
   "cell_type": "markdown",
   "id": "9a8d2373",
   "metadata": {},
   "source": [
    "## data set path"
   ]
  },
  {
   "cell_type": "code",
   "execution_count": null,
   "id": "723fbc78",
   "metadata": {},
   "outputs": [],
   "source": [
    "emails_path = os.path.join('../../data', 'emails.csv')"
   ]
  },
  {
   "cell_type": "code",
   "execution_count": null,
   "id": "1f73b4be",
   "metadata": {},
   "outputs": [],
   "source": [
    "emailDf = pd.read_csv(emails_path)"
   ]
  },
  {
   "cell_type": "code",
   "execution_count": null,
   "id": "6f2bd188",
   "metadata": {},
   "outputs": [],
   "source": [
    "emailDf.info()"
   ]
  },
  {
   "cell_type": "code",
   "execution_count": null,
   "id": "58368be6",
   "metadata": {},
   "outputs": [],
   "source": [
    "original_length = len(emailDf)"
   ]
  },
  {
   "cell_type": "markdown",
   "id": "6ab8d719",
   "metadata": {},
   "source": [
    "## explore data"
   ]
  },
  {
   "cell_type": "code",
   "execution_count": null,
   "id": "885a2b55",
   "metadata": {},
   "outputs": [],
   "source": [
    "def spamVhamPieChart(df):\n",
    "    spamValCounts = emailDf['spam'].value_counts()\n",
    "    hamCount = spamValCounts[0]\n",
    "    spamCount = spamValCounts[1]\n",
    "    labels = ['Spam','Ham']\n",
    "    sizes = [spamCount,hamCount]\n",
    "    plt.pie(sizes,labels=labels,autopct='%1.1f%%',startangle=90)\n",
    "    plt.show()"
   ]
  },
  {
   "cell_type": "code",
   "execution_count": null,
   "id": "9f8cfdf9",
   "metadata": {
    "scrolled": true
   },
   "outputs": [],
   "source": [
    "# we can see that as-is, the dataset is about one-quarter spam emails\n",
    "\n",
    "spamVhamPieChart(emailDf)"
   ]
  },
  {
   "cell_type": "code",
   "execution_count": null,
   "id": "99a4d5d4",
   "metadata": {
    "scrolled": true
   },
   "outputs": [],
   "source": [
    "# look at some sample email text\n",
    "\n",
    "for i in range(5):\n",
    "    print(emailDf['text'][i])\n",
    "    print()"
   ]
  },
  {
   "cell_type": "markdown",
   "id": "69ea5e7e",
   "metadata": {},
   "source": [
    "## remove duplicates"
   ]
  },
  {
   "cell_type": "code",
   "execution_count": null,
   "id": "5e4df2d8",
   "metadata": {},
   "outputs": [],
   "source": [
    "emailDf.drop_duplicates(keep='first',inplace=True)"
   ]
  },
  {
   "cell_type": "code",
   "execution_count": null,
   "id": "d6060da7",
   "metadata": {},
   "outputs": [],
   "source": [
    "emailDf.info()"
   ]
  },
  {
   "cell_type": "code",
   "execution_count": null,
   "id": "0be12cf6",
   "metadata": {},
   "outputs": [],
   "source": [
    "emailDf.reset_index(drop=True,inplace=True)"
   ]
  },
  {
   "cell_type": "code",
   "execution_count": null,
   "id": "0d768700",
   "metadata": {},
   "outputs": [],
   "source": [
    "original_length - len(emailDf)"
   ]
  },
  {
   "cell_type": "markdown",
   "id": "efe8c7a2",
   "metadata": {},
   "source": [
    "## text preprocessing"
   ]
  },
  {
   "cell_type": "code",
   "execution_count": null,
   "id": "dd8f5a3e",
   "metadata": {},
   "outputs": [],
   "source": [
    "# cleaning raw text data\n",
    "def cleanEmail(emailText):\n",
    "    # lower case\n",
    "    lower = emailText.lower()\n",
    "    # remove stop words\n",
    "    removeStop = ' '.join([word for word in lower.split() if word not in my_stopwords])\n",
    "    # remove hyperlinks\n",
    "    removeUrl = re.sub(r\"http\\S+\", \"\", removeStop)\n",
    "    # remove special characters\n",
    "    removePunc = removeUrl.translate(str.maketrans(dict.fromkeys(string.punctuation)))\n",
    "    return removePunc"
   ]
  },
  {
   "cell_type": "code",
   "execution_count": null,
   "id": "30dbbb87",
   "metadata": {},
   "outputs": [],
   "source": [
    "copyDf = emailDf.copy()"
   ]
  },
  {
   "cell_type": "code",
   "execution_count": null,
   "id": "593be240",
   "metadata": {},
   "outputs": [],
   "source": [
    "%%time\n",
    "\n",
    "emailDf['cleaned_text'] = copyDf.text.apply(lambda x: cleanEmail(x))"
   ]
  },
  {
   "cell_type": "code",
   "execution_count": null,
   "id": "c1dee65f",
   "metadata": {},
   "outputs": [],
   "source": [
    "emailDf.head()"
   ]
  },
  {
   "cell_type": "markdown",
   "id": "72d02f52",
   "metadata": {},
   "source": [
    "## split into train/test sets"
   ]
  },
  {
   "cell_type": "code",
   "execution_count": null,
   "id": "ebaf245e",
   "metadata": {},
   "outputs": [],
   "source": [
    "x_train,x_test,y_train,y_test = train_test_split(emailDf.cleaned_text, emailDf.spam, test_size=0.2)"
   ]
  },
  {
   "cell_type": "code",
   "execution_count": null,
   "id": "6c8e5b70",
   "metadata": {},
   "outputs": [],
   "source": [
    "x_train.shape"
   ]
  },
  {
   "cell_type": "markdown",
   "id": "e9a62682",
   "metadata": {},
   "source": [
    "## tokenizing cleaned data"
   ]
  },
  {
   "cell_type": "code",
   "execution_count": null,
   "id": "db660788",
   "metadata": {},
   "outputs": [],
   "source": [
    "EMBED_SIZE = 100\n",
    "MAX_FEATURES = 50000\n",
    "MAX_LEN = 2000"
   ]
  },
  {
   "cell_type": "code",
   "execution_count": null,
   "id": "9a654c31",
   "metadata": {},
   "outputs": [],
   "source": [
    "from tensorflow.keras.preprocessing.text import Tokenizer\n",
    "\n",
    "tokenizer = Tokenizer(num_words=MAX_FEATURES)"
   ]
  },
  {
   "cell_type": "code",
   "execution_count": null,
   "id": "f1dca143",
   "metadata": {},
   "outputs": [],
   "source": [
    "tokenizer.fit_on_texts(x_train)"
   ]
  },
  {
   "cell_type": "code",
   "execution_count": null,
   "id": "d7612bff",
   "metadata": {},
   "outputs": [],
   "source": [
    "x_train_features = np.array(tokenizer.texts_to_sequences(x_train), dtype=object)\n",
    "x_test_features = np.array(tokenizer.texts_to_sequences(x_test), dtype=object)"
   ]
  },
  {
   "cell_type": "markdown",
   "id": "98c98f81",
   "metadata": {},
   "source": [
    "## padding"
   ]
  },
  {
   "cell_type": "code",
   "execution_count": null,
   "id": "94a07168",
   "metadata": {},
   "outputs": [],
   "source": [
    "from tensorflow.keras.preprocessing.sequence import pad_sequences\n",
    "\n",
    "x_train_features = pad_sequences(x_train_features, maxlen=MAX_LEN)\n",
    "x_test_features = pad_sequences(x_test_features, maxlen=MAX_LEN)"
   ]
  },
  {
   "cell_type": "markdown",
   "id": "2acca0c9",
   "metadata": {},
   "source": [
    "## encode target labels"
   ]
  },
  {
   "cell_type": "code",
   "execution_count": null,
   "id": "d2538957",
   "metadata": {},
   "outputs": [],
   "source": [
    "from sklearn.preprocessing import LabelEncoder\n",
    "\n",
    "le = LabelEncoder()"
   ]
  },
  {
   "cell_type": "code",
   "execution_count": null,
   "id": "7ebcf9d2",
   "metadata": {},
   "outputs": [],
   "source": [
    "y_train_enc = le.fit_transform(y_train.values)\n",
    "y_test_enc = le.transform(y_test.values)"
   ]
  },
  {
   "cell_type": "markdown",
   "id": "3dfcf2d2",
   "metadata": {},
   "source": [
    "# model"
   ]
  },
  {
   "cell_type": "code",
   "execution_count": null,
   "id": "fd1b70d9",
   "metadata": {},
   "outputs": [],
   "source": [
    "from tensorflow.keras.layers import Dense, Input, LSTM, Embedding, Dropout, Activation\n",
    "from tensorflow.keras.layers import Bidirectional\n",
    "from tensorflow.keras.models import Model"
   ]
  },
  {
   "cell_type": "code",
   "execution_count": null,
   "id": "e9aaa1bf",
   "metadata": {},
   "outputs": [],
   "source": [
    "# create the model - note to self, will not work with Python 3.7 version tf, does work with Python 3.6\n",
    "import tensorflow as tf\n",
    "embedding_vector_length = 32\n",
    "\n",
    "model = tf.keras.Sequential()\n",
    "model.add(Embedding(MAX_FEATURES, embedding_vector_length, input_length=MAX_LEN))\n",
    "# model.add(Bidirectional(tf.keras.layers.LSTM(64))) --- not enough memory on my 1060 ***********************************\n",
    "model.add(Bidirectional(tf.keras.layers.LSTM(32)))\n",
    "model.add(Dense(16, activation='relu'))\n",
    "model.add(Dropout(0.1))\n",
    "model.add(Dense(1, activation='sigmoid'))\n",
    "model.compile(loss='binary_crossentropy', optimizer='adam', metrics=['accuracy'])\n",
    "print(model.summary())"
   ]
  },
  {
   "cell_type": "code",
   "execution_count": null,
   "id": "6bb415fa",
   "metadata": {
    "scrolled": true
   },
   "outputs": [],
   "source": [
    "history = model.fit(x_train_features, y_train, batch_size=512, epochs=20, validation_data=(x_test_features, y_test))"
   ]
  },
  {
   "cell_type": "markdown",
   "id": "dea5ade2",
   "metadata": {},
   "source": [
    "## model accuracy"
   ]
  },
  {
   "cell_type": "code",
   "execution_count": null,
   "id": "a5a9ec52",
   "metadata": {},
   "outputs": [],
   "source": [
    "from  matplotlib import pyplot as plt\n",
    "plt.plot(history.history['accuracy'])\n",
    "plt.plot(history.history['val_accuracy'])\n",
    "plt.title('model accuracy')\n",
    "plt.ylabel('accuracy')\n",
    "plt.xlabel('epoch')\n",
    "plt.legend(['train', 'test'], loc='upper left')\n",
    "plt.grid()\n",
    "plt.show()"
   ]
  },
  {
   "cell_type": "code",
   "execution_count": null,
   "id": "f936e3e1",
   "metadata": {},
   "outputs": [],
   "source": [
    "from sklearn.metrics import confusion_matrix,f1_score, precision_score,recall_score"
   ]
  },
  {
   "cell_type": "code",
   "execution_count": null,
   "id": "c55098c3",
   "metadata": {},
   "outputs": [],
   "source": [
    "y_predict  = [1 if o > 0.5 else 0 for o in model.predict(x_test_features)]"
   ]
  },
  {
   "cell_type": "code",
   "execution_count": null,
   "id": "41bc135d",
   "metadata": {},
   "outputs": [],
   "source": [
    "cf_matrix = confusion_matrix(y_test, y_predict)"
   ]
  },
  {
   "cell_type": "code",
   "execution_count": null,
   "id": "277c0f0c",
   "metadata": {},
   "outputs": [],
   "source": [
    "tn, fp, fn, tp = confusion_matrix(y_test, y_predict).ravel()"
   ]
  },
  {
   "cell_type": "code",
   "execution_count": null,
   "id": "41bc589a",
   "metadata": {},
   "outputs": [],
   "source": [
    "import seaborn as sns\n",
    "import matplotlib.pyplot as plt     \n",
    "\n",
    "ax= plt.subplot()\n",
    "sns.heatmap(cf_matrix, annot=True, ax = ax,cmap='Blues',fmt=''); #annot=True to annotate cells\n",
    "\n",
    "# labels, title and ticks\n",
    "ax.set_xlabel('Predicted labels');\n",
    "ax.set_ylabel('True labels'); \n",
    "ax.set_title('Confusion Matrix'); \n",
    "ax.xaxis.set_ticklabels(['Not Spam', 'Spam']); ax.yaxis.set_ticklabels(['Not Spam', 'Spam'])"
   ]
  },
  {
   "cell_type": "code",
   "execution_count": null,
   "id": "03408c4d",
   "metadata": {},
   "outputs": [],
   "source": [
    "print(\"Precision: {:.2f}%\".format(100 * precision_score(y_test, y_predict)))\n",
    "print(\"Recall: {:.2f}%\".format(100 * recall_score(y_test, y_predict)))\n",
    "print(\"F1 Score: {:.2f}%\".format(100 * f1_score(y_test, y_predict)))"
   ]
  },
  {
   "cell_type": "code",
   "execution_count": null,
   "id": "e66021cc",
   "metadata": {},
   "outputs": [],
   "source": [
    "f1_score(y_test, y_predict)"
   ]
  },
  {
   "cell_type": "markdown",
   "id": "b4bbb2a2",
   "metadata": {},
   "source": [
    "## save model"
   ]
  },
  {
   "cell_type": "code",
   "execution_count": null,
   "id": "2ea3f599",
   "metadata": {},
   "outputs": [],
   "source": [
    "model.save('spam_or_ham.h5')"
   ]
  }
 ],
 "metadata": {
  "kernelspec": {
   "display_name": "spamRham2",
   "language": "python",
   "name": "spamrham2"
  },
  "language_info": {
   "codemirror_mode": {
    "name": "ipython",
    "version": 3
   },
   "file_extension": ".py",
   "mimetype": "text/x-python",
   "name": "python",
   "nbconvert_exporter": "python",
   "pygments_lexer": "ipython3",
   "version": "3.6.13"
  }
 },
 "nbformat": 4,
 "nbformat_minor": 5
}
